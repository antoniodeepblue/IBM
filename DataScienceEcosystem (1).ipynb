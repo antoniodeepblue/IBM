{
  "cells": [
    {
      "cell_type": "markdown",
      "source": [
        "<center>\n",
        "    <img src=\"https://cf-courses-data.s3.us.cloud-object-storage.appdomain.cloud/IBMDeveloperSkillsNetwork-DS0105EN-SkillsNetwork/labs/Module2/images/SN_web_lightmode.png\" width=\"300\" alt=\"cognitiveclass.ai logo\">\n",
        "</center>"
      ],
      "metadata": {
        "id": "dMQt-tytC0hr"
      },
      "id": "dMQt-tytC0hr"
    },
    {
      "cell_type": "markdown",
      "source": [
        "##### Add your code below following the instructions given in the course"
      ],
      "metadata": {
        "id": "39F_6LGGC49_"
      },
      "id": "39F_6LGGC49_"
    },
    {
      "cell_type": "markdown",
      "id": "8f828959-6763-46cc-8e93-5868c72ecfd0",
      "metadata": {
        "id": "8f828959-6763-46cc-8e93-5868c72ecfd0"
      },
      "source": [
        "# **Data Science Tools and Ecosystem**"
      ]
    },
    {
      "cell_type": "markdown",
      "id": "75d40fb2-67e4-4390-b33a-b8dbffc02bdb",
      "metadata": {
        "id": "75d40fb2-67e4-4390-b33a-b8dbffc02bdb"
      },
      "source": [
        "### In this notebook, Data Science Tools and Ecosystem are summarized."
      ]
    },
    {
      "cell_type": "markdown",
      "source": [
        "### **Objectives:**\n",
        "\n",
        "* List popular languages for Data Science\n",
        "* Popular Languages\n",
        "* Common Libraries\n",
        "* unordered list\n",
        "* Arithmatic Expressions"
      ],
      "metadata": {
        "id": "H3EWViMgLvtz"
      },
      "id": "H3EWViMgLvtz"
    },
    {
      "cell_type": "markdown",
      "id": "ae0d3b7a-fa1d-4ab0-839b-8b21318b29d7",
      "metadata": {
        "id": "ae0d3b7a-fa1d-4ab0-839b-8b21318b29d7"
      },
      "source": [
        "### Some of the popular languages that Data Scientists use are:\n",
        "1. Python\n",
        "2. R\n",
        "3. SQL\n",
        "4. Java"
      ]
    },
    {
      "cell_type": "markdown",
      "id": "71655850-4c52-4169-b0dc-6588591f4a60",
      "metadata": {
        "id": "71655850-4c52-4169-b0dc-6588591f4a60"
      },
      "source": [
        "### Some of the commonly used libraries used by Data Scientists include:\n",
        "1. Pandas\n",
        "2. NumPy\n",
        "3. Matplotlib\n",
        "4. GGplot2\n"
      ]
    },
    {
      "cell_type": "markdown",
      "source": [
        "### Data Science tools\n",
        "\n",
        "| Data Science tools |\n",
        "|------|\n",
        "| Jupyter Notebook |\n",
        "| RStudio |\n",
        "| Visual Studio Code |\n"
      ],
      "metadata": {
        "id": "9fKVPVLpJmk-"
      },
      "id": "9fKVPVLpJmk-"
    },
    {
      "cell_type": "markdown",
      "id": "6f362ad1-2050-4f35-9d41-2f251e08887b",
      "metadata": {
        "id": "6f362ad1-2050-4f35-9d41-2f251e08887b"
      },
      "source": [
        "#### Below are a few examples of evaluating arithmetic expressions in Python"
      ]
    },
    {
      "cell_type": "code",
      "execution_count": 4,
      "id": "d24a3f39-ea81-4ba5-86b9-b1dabf0413e5",
      "metadata": {
        "colab": {
          "base_uri": "https://localhost:8080/"
        },
        "id": "d24a3f39-ea81-4ba5-86b9-b1dabf0413e5",
        "outputId": "ac7b7972-4d2d-4cec-91cf-d78b72ca3ce5"
      },
      "outputs": [
        {
          "output_type": "execute_result",
          "data": {
            "text/plain": [
              "17"
            ]
          },
          "metadata": {},
          "execution_count": 4
        }
      ],
      "source": [
        "# This a simple arithmetic expression to mutiply then add integers\n",
        "(3*4)+5\n"
      ]
    },
    {
      "cell_type": "code",
      "execution_count": 5,
      "id": "2d3dbe36-285e-444f-bada-2fd6e83fe774",
      "metadata": {
        "colab": {
          "base_uri": "https://localhost:8080/"
        },
        "id": "2d3dbe36-285e-444f-bada-2fd6e83fe774",
        "outputId": "6cd1cb0d-e402-4985-b5df-0980c4e99719"
      },
      "outputs": [
        {
          "output_type": "stream",
          "name": "stdout",
          "text": [
            "200 mins is 3.333 hours.\n"
          ]
        }
      ],
      "source": [
        "# This will convert 200 minutes to hours by diving by 60\n",
        "\n",
        "x = 200\n",
        "hours = x/60\n",
        "print(f\"{x} mins is {hours:.3f} hours.\")"
      ]
    },
    {
      "cell_type": "markdown",
      "id": "84ce1ce8-9b66-4eeb-8f40-73f108415a32",
      "metadata": {
        "id": "84ce1ce8-9b66-4eeb-8f40-73f108415a32"
      },
      "source": [
        "## Author\n",
        "Antonio Fernández Salcedo\n",
        "                     "
      ]
    }
  ],
  "metadata": {
    "kernelspec": {
      "display_name": "Python 3 (ipykernel)",
      "language": "python",
      "name": "python3"
    },
    "language_info": {
      "codemirror_mode": {
        "name": "ipython",
        "version": 3
      },
      "file_extension": ".py",
      "mimetype": "text/x-python",
      "name": "python",
      "nbconvert_exporter": "python",
      "pygments_lexer": "ipython3",
      "version": "3.12.5"
    },
    "colab": {
      "provenance": []
    }
  },
  "nbformat": 4,
  "nbformat_minor": 5
}